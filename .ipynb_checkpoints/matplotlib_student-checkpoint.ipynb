{
 "cells": [
  {
   "cell_type": "markdown",
   "metadata": {},
   "source": [
    "# A Brief Introduction to Matplotlib\n",
    "### Powered by Pandas!\n",
    "\n",
    "In this notebook, we will cover the basics of Matplotlib, a powerful library \n",
    "for visualizing data of all kinds. Used under the hood by dozens of packages, like Pandas, it is an essential part of the data analysis workflow."
   ]
  },
  {
   "cell_type": "code",
   "execution_count": 2,
   "metadata": {},
   "outputs": [],
   "source": [
    "import matplotlib.pyplot as plt\n",
    "\n",
    "# This is equivalent: \n",
    "#from matplotlib import pyplot as plt"
   ]
  },
  {
   "cell_type": "markdown",
   "metadata": {},
   "source": [
    "Let's start with a simple bar chart."
   ]
  },
  {
   "cell_type": "code",
   "execution_count": 3,
   "metadata": {},
   "outputs": [],
   "source": [
    "# Data: major Indian cities and their populations\n",
    "city_names = ['Kolkata', 'Hyderabad','Chennai','Bengaluru', 'Mumbai', 'New Delhi']\n",
    "city_populations = [4.5,6.8,7.1, 8.4, 18, 22]\n",
    "\n",
    "# Generate a bar chart using plt\n",
    "\n",
    "# Add a y-label and a title\n",
    "\n",
    "plt.show()"
   ]
  },
  {
   "cell_type": "code",
   "execution_count": 4,
   "metadata": {},
   "outputs": [],
   "source": [
    "# Data: popularity of programming languages\n",
    "# Source: http://pypl.github.io/PYPL.html\n",
    "languages = ['Python', 'Java', 'Javascript', 'C#', 'PHP', 'C/C++', 'Other']\n",
    "share = [29.72, 19.03, 8.2, 7.28, 6.09, 5.91, 24.27]\n",
    "# Explode one slice of the pie\n",
    "# Plot pie chart using plt\n",
    "# Add title\n",
    "plt.show()"
   ]
  },
  {
   "cell_type": "code",
   "execution_count": 5,
   "metadata": {},
   "outputs": [],
   "source": [
    "# Data: weight of teenagers in the US\n",
    "# Source: https://www.disabled-world.com/calculators-charts/height-weight-teens.php\n",
    "age = [13, 14, 15, 16, 17, 18, 19, 20]\n",
    "male_weight = [45.3, 50.8, 56.0, 60.8, 60.8, 66.9, 68.9, 70.3]\n",
    "female_weight = [45.8, 47.6, 52.1, 53.5, 54.4, 56.7, 57.1, 58.0]\n",
    "male_height = [156.2, 163.8, 170.1, 173.4, 175.2, 175.7, 176.5, 177]\n",
    "female_height = [156.7, 158.7, 159.7, 162.5, 162.5, 163, 163, 163.3]\n",
    "\n",
    "# Make axes in the same figure\n",
    "\n",
    "# Plot weight data on the first axis\n",
    "\n",
    "# Add labels, title, and a legend to the first\n",
    "\n",
    "# Plot height data on the first axis\n",
    "# Add labels, title, and a legend to the second\n",
    "\n",
    "plt.show()"
   ]
  },
  {
   "cell_type": "code",
   "execution_count": 7,
   "metadata": {},
   "outputs": [],
   "source": [
    "# Import numpy for data generation and manipulation\n",
    "import numpy as np\n",
    "\n",
    "# Set seed\n",
    "\n",
    "# Create a single subplot\n",
    "\n",
    "# Set bin amount and data size\n",
    "bins = 50\n",
    "size = 1000\n",
    "\n",
    "# Set mean of the distribution\n",
    "mu = 100\n",
    "\n",
    "# Set two standard deviations of the distribution\n",
    "sigma1 = 15\n",
    "sigma2 = 50\n",
    "\n",
    "# Generate sample data\n",
    "\n",
    "\n",
    "# x1 = mu + sigma1 * norm_data\n",
    "# x2 = mu + sigma2 * norm_data\n",
    "\n",
    "# Drawing order matters!\n",
    "# Add transparency to one\n",
    "\n",
    "# Set labels and title\n",
    "\n",
    "plt.show()"
   ]
  },
  {
   "cell_type": "code",
   "execution_count": 8,
   "metadata": {},
   "outputs": [],
   "source": [
    "\n",
    "# fig, axs = plt.subplots(nrows=2, ncols=1, figsize=(8, 8))\n",
    "# Make a single subplot\n",
    "\n",
    "# Set the size\n",
    "size = 100 \n",
    "# Generate a list of two lists of random samples\n",
    "\n",
    "\n",
    "# Plot 2d histogram\n",
    "# Plot scatterplot with markers and colors\n",
    "\n",
    "plt.show()"
   ]
  },
  {
   "cell_type": "markdown",
   "metadata": {},
   "source": [
    "### Exercise - Copy the code above and create two separate plots - the 2D histogram and the scatterplot - on the same figure."
   ]
  },
  {
   "cell_type": "markdown",
   "metadata": {},
   "source": [
    "Now let's work with larger datasets using Pandas."
   ]
  },
  {
   "cell_type": "code",
   "execution_count": 9,
   "metadata": {},
   "outputs": [],
   "source": [
    "import pandas as pd\n",
    "# Import the data\n",
    "em_filepath = './data/emission_data.csv'\n",
    "# Set the index to the country names\n",
    "\n",
    "# Do some quick analysis on the data itself"
   ]
  },
  {
   "cell_type": "code",
   "execution_count": 10,
   "metadata": {},
   "outputs": [],
   "source": [
    "# Get set of years\n",
    "num_years = 50\n",
    "# Select those years from dataframe (.loc() or queries for rows, filter works great for columns)\n",
    "\n",
    "# Get country data - which countries should we use?\n",
    "\n",
    "# Get subplots and figure\n",
    "\n",
    "# plot data for each country\n",
    "\n",
    "# Format x ticks if necessary\n",
    "\n",
    "# Add a legend\n",
    "\n",
    "# Add labels, titles, and source\n",
    "\n",
    "# Set style, if desired\n",
    "\n",
    "# Set layout, if needed\n",
    "\n",
    "# Save files to out path\n",
    "filepath = './out/co2_per_capita'\n",
    "\n",
    "plt.show()"
   ]
  },
  {
   "cell_type": "markdown",
   "metadata": {},
   "source": [
    "Now let's represent the top n emitters in a specific year as a bar chart."
   ]
  },
  {
   "cell_type": "code",
   "execution_count": 11,
   "metadata": {},
   "outputs": [],
   "source": [
    "\n",
    "\n",
    "# years = ['1900', '1940', '1950', '1960']\n",
    "# drop_rows = ['World', 'EU-28', 'Asia and Pacific (other)', 'Europe (other)', \n",
    "#              'Americas (other)', 'Middle East', 'Africa']\n",
    "# num_countries = 10\n",
    "\n",
    "\n"
   ]
  },
  {
   "cell_type": "code",
   "execution_count": null,
   "metadata": {},
   "outputs": [],
   "source": []
  }
 ],
 "metadata": {
  "kernelspec": {
   "display_name": "Python 3",
   "language": "python",
   "name": "python3"
  },
  "language_info": {
   "codemirror_mode": {
    "name": "ipython",
    "version": 3
   },
   "file_extension": ".py",
   "mimetype": "text/x-python",
   "name": "python",
   "nbconvert_exporter": "python",
   "pygments_lexer": "ipython3",
   "version": "3.7.5"
  }
 },
 "nbformat": 4,
 "nbformat_minor": 4
}
